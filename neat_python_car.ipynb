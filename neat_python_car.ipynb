{
  "cells": [
    {
      "cell_type": "markdown",
      "metadata": {
        "colab_type": "text",
        "id": "view-in-github"
      },
      "source": [
        "<a href=\"https://colab.research.google.com/github/noahhoang/NEAT-Python-Car/blob/main/neat_python_car.ipynb\" target=\"_parent\"><img src=\"https://colab.research.google.com/assets/colab-badge.svg\" alt=\"Open In Colab\"/></a>"
      ]
    },
    {
      "cell_type": "markdown",
      "metadata": {
        "id": "gbiSoHy0d9M_"
      },
      "source": [
        "## Dependencies"
      ]
    },
    {
      "cell_type": "code",
      "execution_count": 20,
      "metadata": {
        "colab": {
          "base_uri": "https://localhost:8080/"
        },
        "id": "oYSVft3WdmrH",
        "outputId": "239d1bf7-8bc0-440c-8709-95cdf53ecf08"
      },
      "outputs": [
        {
          "name": "stdout",
          "output_type": "stream",
          "text": [
            "Defaulting to user installation because normal site-packages is not writeable\n",
            "Requirement already satisfied: neat-python in /Users/noahhoang/Library/Python/3.9/lib/python/site-packages (0.92)\n",
            "\u001b[33mWARNING: You are using pip version 21.2.4; however, version 24.2 is available.\n",
            "You should consider upgrading via the '/Library/Developer/CommandLineTools/usr/bin/python3 -m pip install --upgrade pip' command.\u001b[0m\n",
            "Note: you may need to restart the kernel to use updated packages.\n",
            "Defaulting to user installation because normal site-packages is not writeable\n",
            "Requirement already satisfied: pygame in /Users/noahhoang/Library/Python/3.9/lib/python/site-packages (2.6.0)\n",
            "\u001b[33mWARNING: You are using pip version 21.2.4; however, version 24.2 is available.\n",
            "You should consider upgrading via the '/Library/Developer/CommandLineTools/usr/bin/python3 -m pip install --upgrade pip' command.\u001b[0m\n",
            "Note: you may need to restart the kernel to use updated packages.\n",
            "Defaulting to user installation because normal site-packages is not writeable\n",
            "Requirement already satisfied: opencv-python in /Users/noahhoang/Library/Python/3.9/lib/python/site-packages (4.10.0.84)\n",
            "Requirement already satisfied: numpy>=1.17.3 in /Users/noahhoang/Library/Python/3.9/lib/python/site-packages (from opencv-python) (2.0.2)\n",
            "\u001b[33mWARNING: You are using pip version 21.2.4; however, version 24.2 is available.\n",
            "You should consider upgrading via the '/Library/Developer/CommandLineTools/usr/bin/python3 -m pip install --upgrade pip' command.\u001b[0m\n",
            "Note: you may need to restart the kernel to use updated packages.\n"
          ]
        }
      ],
      "source": [
        "%pip install neat-python\n",
        "%pip install pygame\n",
        "%pip install opencv-python\n",
        "\n",
        "import neat # NEAT (NeuroEvolution of Augmenting Topologies) neural network algo\n",
        "import pygame # rendering game\n",
        "import os # file pathing\n",
        "import math # math functions\n",
        "import random # generating random number\n",
        "import sys # script handling\n",
        "\n",
        "\n",
        "\n",
        "import cv2 as cv  # for handling importing images\n"
      ]
    },
    {
      "cell_type": "markdown",
      "metadata": {
        "id": "IIGuc3t58glH"
      },
      "source": [
        "## Mount Google Drive\n",
        "Get .png files for **car** and **race track**"
      ]
    },
    {
      "cell_type": "code",
      "execution_count": 9,
      "metadata": {
        "colab": {
          "base_uri": "https://localhost:8080/"
        },
        "id": "oy2aWluX8mXj",
        "outputId": "ceb7ad55-7787-4131-c91b-2ebb3c5aa538"
      },
      "outputs": [],
      "source": [
        "# from google.colab import drive\n",
        "# drive.mount('/content/drive')"
      ]
    },
    {
      "cell_type": "code",
      "execution_count": 10,
      "metadata": {
        "id": "m2ZYdhup8scU"
      },
      "outputs": [
        {
          "name": "stderr",
          "output_type": "stream",
          "text": [
            "[ WARN:0@470.099] global loadsave.cpp:241 findDecoder imread_('/content/drive/MyDrive/NEAT Python Car/car.png'): can't open/read file: check file path/integrity\n",
            "[ WARN:0@470.099] global loadsave.cpp:241 findDecoder imread_('/content/drive/MyDrive/NEAT Python Car/map.png'): can't open/read file: check file path/integrity\n"
          ]
        }
      ],
      "source": [
        "# get car image\n",
        "car = cv.imread('/content/drive/MyDrive/NEAT Python Car/car.png')\n",
        "\n",
        "# get track image\n",
        "map = cv.imread('/content/drive/MyDrive/NEAT Python Car/map.png')"
      ]
    },
    {
      "cell_type": "markdown",
      "metadata": {},
      "source": [
        "## Local File loading"
      ]
    },
    {
      "cell_type": "code",
      "execution_count": 23,
      "metadata": {},
      "outputs": [],
      "source": [
        "car = cv.imread('./car.png')\n",
        "\n",
        "map = cv.imread('./map.png')\n"
      ]
    },
    {
      "cell_type": "markdown",
      "metadata": {
        "id": "xamp3srBf_g_"
      },
      "source": [
        "## pygame Rendering"
      ]
    },
    {
      "cell_type": "code",
      "execution_count": 25,
      "metadata": {
        "id": "R57EZ7TpgCpN"
      },
      "outputs": [
        {
          "name": "stdout",
          "output_type": "stream",
          "text": [
            "main\n",
            "\n",
            " ****** Running generation 0 ****** \n",
            "\n"
          ]
        },
        {
          "ename": "TypeError",
          "evalue": "argument 1 must be pygame.surface.Surface, not numpy.ndarray",
          "output_type": "error",
          "traceback": [
            "\u001b[0;31m---------------------------------------------------------------------------\u001b[0m",
            "\u001b[0;31mTypeError\u001b[0m                                 Traceback (most recent call last)",
            "Cell \u001b[0;32mIn[25], line 9\u001b[0m\n\u001b[1;32m      4\u001b[0m generation \u001b[38;5;241m=\u001b[39m \u001b[38;5;241m0\u001b[39m\n\u001b[1;32m      8\u001b[0m \u001b[38;5;66;03m# creating car in pygame\u001b[39;00m\n\u001b[0;32m----> 9\u001b[0m \u001b[38;5;28;01mclass\u001b[39;00m \u001b[38;5;21;01mCar\u001b[39;00m:\n\u001b[1;32m     10\u001b[0m   \u001b[38;5;66;03m# constructor\u001b[39;00m\n\u001b[1;32m     11\u001b[0m   \u001b[38;5;28;01mdef\u001b[39;00m \u001b[38;5;21m__init__\u001b[39m(\u001b[38;5;28mself\u001b[39m):\n\u001b[1;32m     12\u001b[0m \n\u001b[1;32m     13\u001b[0m     \u001b[38;5;66;03m# establishing features of car\u001b[39;00m\n\u001b[1;32m     14\u001b[0m     \u001b[38;5;28mself\u001b[39m\u001b[38;5;241m.\u001b[39msurface \u001b[38;5;241m=\u001b[39m pygame\u001b[38;5;241m.\u001b[39mimage\u001b[38;5;241m.\u001b[39mload(\u001b[38;5;124m\"\u001b[39m\u001b[38;5;124m./car.png\u001b[39m\u001b[38;5;124m\"\u001b[39m) \u001b[38;5;66;03m# load car image --- might need to mount google drive for the image\u001b[39;00m\n",
            "Cell \u001b[0;32mIn[25], line 269\u001b[0m, in \u001b[0;36mCar\u001b[0;34m()\u001b[0m\n\u001b[1;32m    266\u001b[0m p\u001b[38;5;241m.\u001b[39madd_reporter(stats)\n\u001b[1;32m    268\u001b[0m \u001b[38;5;66;03m# START PROGRAM - for 1000 generations\u001b[39;00m\n\u001b[0;32m--> 269\u001b[0m \u001b[43mp\u001b[49m\u001b[38;5;241;43m.\u001b[39;49m\u001b[43mrun\u001b[49m\u001b[43m(\u001b[49m\u001b[43mrun_car\u001b[49m\u001b[43m,\u001b[49m\u001b[43m \u001b[49m\u001b[38;5;241;43m1000\u001b[39;49m\u001b[43m)\u001b[49m\n",
            "File \u001b[0;32m~/Library/Python/3.9/lib/python/site-packages/neat/population.py:89\u001b[0m, in \u001b[0;36mPopulation.run\u001b[0;34m(self, fitness_function, n)\u001b[0m\n\u001b[1;32m     86\u001b[0m \u001b[38;5;28mself\u001b[39m\u001b[38;5;241m.\u001b[39mreporters\u001b[38;5;241m.\u001b[39mstart_generation(\u001b[38;5;28mself\u001b[39m\u001b[38;5;241m.\u001b[39mgeneration)\n\u001b[1;32m     88\u001b[0m \u001b[38;5;66;03m# Evaluate all genomes using the user-provided function.\u001b[39;00m\n\u001b[0;32m---> 89\u001b[0m \u001b[43mfitness_function\u001b[49m\u001b[43m(\u001b[49m\u001b[38;5;28;43mlist\u001b[39;49m\u001b[43m(\u001b[49m\u001b[43miteritems\u001b[49m\u001b[43m(\u001b[49m\u001b[38;5;28;43mself\u001b[39;49m\u001b[38;5;241;43m.\u001b[39;49m\u001b[43mpopulation\u001b[49m\u001b[43m)\u001b[49m\u001b[43m)\u001b[49m\u001b[43m,\u001b[49m\u001b[43m \u001b[49m\u001b[38;5;28;43mself\u001b[39;49m\u001b[38;5;241;43m.\u001b[39;49m\u001b[43mconfig\u001b[49m\u001b[43m)\u001b[49m\n\u001b[1;32m     91\u001b[0m \u001b[38;5;66;03m# Gather and report statistics.\u001b[39;00m\n\u001b[1;32m     92\u001b[0m best \u001b[38;5;241m=\u001b[39m \u001b[38;5;28;01mNone\u001b[39;00m\n",
            "Cell \u001b[0;32mIn[25], line 173\u001b[0m, in \u001b[0;36mCar.run_car\u001b[0;34m(genomes, config)\u001b[0m\n\u001b[1;32m    170\u001b[0m   g\u001b[38;5;241m.\u001b[39mfitness \u001b[38;5;241m=\u001b[39m \u001b[38;5;241m0\u001b[39m \u001b[38;5;66;03m# establishes how good the neural network is at a task\u001b[39;00m\n\u001b[1;32m    172\u001b[0m   \u001b[38;5;66;03m# initalize car for this neural network\u001b[39;00m\n\u001b[0;32m--> 173\u001b[0m   cars\u001b[38;5;241m.\u001b[39mappend(\u001b[43mCar\u001b[49m\u001b[43m(\u001b[49m\u001b[43m)\u001b[49m)\n\u001b[1;32m    175\u001b[0m \u001b[38;5;66;03m# initialize pygame game\u001b[39;00m\n\u001b[1;32m    176\u001b[0m pygame\u001b[38;5;241m.\u001b[39minit()\n",
            "Cell \u001b[0;32mIn[7], line 16\u001b[0m, in \u001b[0;36mCar.__init__\u001b[0;34m(self)\u001b[0m\n\u001b[1;32m     11\u001b[0m \u001b[38;5;28;01mdef\u001b[39;00m \u001b[38;5;21m__init__\u001b[39m(\u001b[38;5;28mself\u001b[39m):\n\u001b[1;32m     12\u001b[0m \n\u001b[1;32m     13\u001b[0m   \u001b[38;5;66;03m# establishing features of car\u001b[39;00m\n\u001b[1;32m     14\u001b[0m   \u001b[38;5;66;03m# self.surface = pygame.image.load('car.png') # load car image --- might need to mount google drive for the image\u001b[39;00m\n\u001b[1;32m     15\u001b[0m   \u001b[38;5;28mself\u001b[39m\u001b[38;5;241m.\u001b[39msurface \u001b[38;5;241m=\u001b[39m car\n\u001b[0;32m---> 16\u001b[0m   \u001b[38;5;28mself\u001b[39m\u001b[38;5;241m.\u001b[39msurface \u001b[38;5;241m=\u001b[39m \u001b[43mpygame\u001b[49m\u001b[38;5;241;43m.\u001b[39;49m\u001b[43mtransform\u001b[49m\u001b[38;5;241;43m.\u001b[39;49m\u001b[43mscale\u001b[49m\u001b[43m(\u001b[49m\u001b[38;5;28;43mself\u001b[39;49m\u001b[38;5;241;43m.\u001b[39;49m\u001b[43msurface\u001b[49m\u001b[43m,\u001b[49m\u001b[43m \u001b[49m\u001b[43m(\u001b[49m\u001b[38;5;241;43m100\u001b[39;49m\u001b[43m,\u001b[49m\u001b[43m \u001b[49m\u001b[38;5;241;43m100\u001b[39;49m\u001b[43m)\u001b[49m\u001b[43m)\u001b[49m \u001b[38;5;66;03m# resize car to 100 pixels\u001b[39;00m\n\u001b[1;32m     17\u001b[0m   \u001b[38;5;28mself\u001b[39m\u001b[38;5;241m.\u001b[39mrotate_surface \u001b[38;5;241m=\u001b[39m \u001b[38;5;28mself\u001b[39m\u001b[38;5;241m.\u001b[39msurface\n\u001b[1;32m     18\u001b[0m   \u001b[38;5;28mself\u001b[39m\u001b[38;5;241m.\u001b[39mpos \u001b[38;5;241m=\u001b[39m [\u001b[38;5;241m700\u001b[39m, \u001b[38;5;241m650\u001b[39m]\n",
            "\u001b[0;31mTypeError\u001b[0m: argument 1 must be pygame.surface.Surface, not numpy.ndarray"
          ]
        }
      ],
      "source": [
        "\n",
        "\n",
        "# establishing dimensions of pygame\n",
        "screen_width = 1500\n",
        "screen_height = 800\n",
        "generation = 0\n",
        "\n",
        "\n",
        "\n",
        "# creating car in pygame\n",
        "class Car:\n",
        "  # constructor\n",
        "  def __init__(self):\n",
        "\n",
        "    # establishing features of car\n",
        "    self.surface = pygame.image.load(\"./car.png\") # load car image --- might need to mount google drive for the image\n",
        "    # self.surface = car\n",
        "    self.surface = pygame.transform.scale(self.surface, (100, 100)) # resize car to 100 pixels\n",
        "    self.rotate_surface = self.surface\n",
        "    self.pos = [700, 650]\n",
        "    self.angle = 0\n",
        "    self.speed = 0\n",
        "    self.center = [self.pos[0] + 50, self.pos[1] + 50]\n",
        "    self.radars = []\n",
        "    self.radars_for_draw = []\n",
        "    self.is_alive = True\n",
        "    self.goal = False\n",
        "    self.distance = 0\n",
        "    self.time_spent = 0\n",
        "\n",
        "\n",
        "  # method to draw the car and its radar in pygame\n",
        "  def draw(self, screen):\n",
        "    screen.blit(self.rotate_surface, self.pos)  # put car on screen\n",
        "    self.draw_radar(screen)\n",
        "\n",
        "  # draws the radar vectors coming from the car\n",
        "  def draw_radar(self, screen):\n",
        "    for radar in self.radars: # draws each radar vector\n",
        "      pos, dist = radar\n",
        "      pygame.draw.line(screen, (0, 255, 0), self.center, pos, 1)\n",
        "      pygame.draw.circle(screen, (0, 255, 0), pos, 5)\n",
        "\n",
        "\n",
        "  # checks collision status to determine is car is still \"alive\"\n",
        "  def check_collision(self, map):\n",
        "    self.is_alive = True\n",
        "    for p in self.four_points:  # checks four corners of the car to see\n",
        "        if map.get_at((int(p[0]), int(p[1]))) == (255, 255, 255, 255):  # if one of the corners is in a white pixel, then it crashed (white track boundaries)\n",
        "            self.is_alive = False\n",
        "            break\n",
        "\n",
        "\n",
        "\n",
        "  # create radar vectors for the cars current position\n",
        "  def check_radar(self, degree, map):\n",
        "    len = 0\n",
        "    # starter x, y coordinate for the radar vector\n",
        "    x = int(self.center[0] + math.cos(math.radians(360 - (self.angle + degree))) * len)\n",
        "    y = int(self.center[1] + math.sin(math.radians(360 - (self.angle + degree))) * len)\n",
        "\n",
        "    # find where the radar vector should end\n",
        "    while not map.get_at((x, y)) == (255, 255, 255, 255) and len < 300:\n",
        "      len = len + 1\n",
        "      x = int(self.center[0] + math.cos(math.radians(360 - (self.angle + degree))) * len)\n",
        "      y = int(self.center[1] + math.sin(math.radians(360 - (self.angle + degree))) * len)\n",
        "\n",
        "    dist = int(math.sqrt(math.pow(x - self.center[0], 2) + math.pow(y - self.center[1], 2)))  # calculate distance from car to end of vector\n",
        "    self.radars.append([x, y], dist)  # store coordinate and the distance from the center of the car\n",
        "\n",
        "\n",
        "\n",
        "  # updates the car's status as it moves\n",
        "  def update(self, map):\n",
        "\n",
        "    # check speed\n",
        "    self.speed = 15\n",
        "\n",
        "\n",
        "    # check position - horizontal\n",
        "    self.rotate_surface = self.rot_center(self.surface, self.angle)\n",
        "    self.pos[0] += math.cos(math.radians(360 - self.angle)) * self.speed\n",
        "\n",
        "    # readjust car if too far out of the boundaries\n",
        "    if self.pos[0] < 20:\n",
        "      self.post[0] = 20\n",
        "    elif self.pos[0] > screen_width - 120:\n",
        "      self.pos[0] = screen_width - 120\n",
        "\n",
        "    # increment car data\n",
        "    self.distance += self.speed\n",
        "    self.time_spent += 1\n",
        "\n",
        "    # check position - vertical\n",
        "    self.rotate_surface = self.rot_center(self.surface, self.angle)\n",
        "    self.pos[1] += math.sin(math.radians(360 - self.angle)) * self.speed\n",
        "\n",
        "    # readjust car if too far out of the boundaries\n",
        "    if self.pos[1] < 20:\n",
        "      self.post[1] = 20\n",
        "    elif self.pos[1] > screen_width - 120:\n",
        "      self.pos[1] = screen_width - 120\n",
        "\n",
        "\n",
        "\n",
        "    # check four corners of contact\n",
        "    self.center = [self.pos[0] + 50, self.pos[1] + 50]  # re-adjust center\n",
        "    len = 40  # dist from center to corner of the car\n",
        "    # calculate the corner points => calculating adjacent and opposite sides of triangle and storing as coordinate points\n",
        "    left_top = [self.center[0] + math.cos(math.radians(360 - (self.angle + 30))) * len, self.center[1] + math.sin(math.radians(360 - (self.angle + 30))) * len]\n",
        "    right_top = [self.center[0] + math.cos(math.radians(360 - (self.angle + 150))) * len, self.center[1] + math.sin(math.radians(360 - (self.angle + 150))) * len]\n",
        "    left_bottom = [self.center[0] + math.cos(math.radians(360 - (self.angle + 210))) * len, self.center[1] + math.sin(math.radians(360 - (self.angle + 210))) * len]\n",
        "    right_bottom = [self.center[0] + math.cos(math.radians(360 - (self.angle + 330))) * len, self.center[1] + math.sin(math.radians(360 - (self.angle + 330))) * len]\n",
        "    # store 4 points\n",
        "    self.four_points = [left_top, right_top, left_bottom, right_bottom]\n",
        "\n",
        "\n",
        "    # check for a collision\n",
        "    self.check_collision(map)\n",
        "\n",
        "    self.radars.clear() # reset radars that were calculated\n",
        "\n",
        "    # get the new radar vectors for each angle\n",
        "    for d in range(-90, 120, 45):\n",
        "      self.check_radar(d, map)\n",
        "\n",
        "\n",
        "    # updates radar data\n",
        "    def get_data(self):\n",
        "      radars = self.radars\n",
        "      ret = [0, 0, 0, 0, 0]\n",
        "\n",
        "      # for each radar point\n",
        "      for i, r in enumerate(radars):\n",
        "        ret[i] = int(r[1] / 30) # distance of radar / 30 to scale easier for NEAT to process\n",
        "\n",
        "      return ret\n",
        "\n",
        "\n",
        "    ## GETTER METHODS ##\n",
        "    #=================##\n",
        "\n",
        "    def get_alive(self):\n",
        "      return self.is_alive\n",
        "\n",
        "    # establish goal for the car\n",
        "    def get_reward(self):\n",
        "      return self.distance / 50.0\n",
        "\n",
        "    # makes car rotate around its center instead of top-left corner\n",
        "    def rot_center(self, image, angle):\n",
        "      orig_rectangle = image.get_rect()\n",
        "      rot_image = pygame.transform.rotate(image, angle)\n",
        "      rot_rectangle = orig_rectangle.copy() # gets copy of original car\n",
        "      rot_rectangle.center = rot_image.get_rect.center  # gets center of rotated car\n",
        "      rot_image = rot_image.subsurface(rot_rectangle).copy() # used to crop car to original size\n",
        "      return rot_image\n",
        "\n",
        "\n",
        "\n",
        "\n",
        "  # responsible for initializing and running car simulation\n",
        "  def run_car(genomes, config):\n",
        "\n",
        "    # initialize params\n",
        "    nets = []\n",
        "    cars = []\n",
        "\n",
        "    for id, g in genomes:\n",
        "      net = neat.nn.FeedForwardNetwork.create(g, config)\n",
        "      nets.append(net)\n",
        "      g.fitness = 0 # establishes how good the neural network is at a task\n",
        "\n",
        "      # initalize car for this neural network\n",
        "      cars.append(Car())\n",
        "\n",
        "    # initialize pygame game\n",
        "    pygame.init()\n",
        "    screen = pygame.display.set_mode((screen_width, screen_height))\n",
        "    clock = pygame.time.Clock()\n",
        "    generation_font = pygame.font.SysFont(\"Times New Roman\", 70)\n",
        "    font = pygame.font.SysFont(\"Times New Roman\", 30)\n",
        "\n",
        "\n",
        "    # import map using mounting google drive\n",
        "    map = pygame.image.load(\"./map.png\")\n",
        "\n",
        "\n",
        "\n",
        "\n",
        "\n",
        "    # main loop for the game\n",
        "    global generation\n",
        "    generation += 1\n",
        "\n",
        "    # LOOP\n",
        "    while True:\n",
        "      # check to end simulation\n",
        "      for event in pygame.event.get():\n",
        "        if event.type == pygame.QUIT:\n",
        "          sys.exit(0)\n",
        "\n",
        "\n",
        "      # loop through each car for decision making of turning (left or right)\n",
        "      for i, car in enumerate(cars):\n",
        "        output = nets[i].activate(car.get_data()) # passes radar info through neural network to get output vectors\n",
        "        i = output.index(max(output)) # gets index of most favorable output vector for car\n",
        "\n",
        "        # logic for turning left vs right\n",
        "        if i == 0:\n",
        "          car.angle += 10\n",
        "        else:\n",
        "          car.angle -= 10\n",
        "\n",
        "      # Updates for car and fitness values\n",
        "      remain_cars = 0\n",
        "      # cars and genomes are syncrhonized, iterate over the cars to update their respective genome's fitness\n",
        "      for i, car in enumerate(cars):\n",
        "        if car.get_alive():\n",
        "          remain_cars += 1  # count of how many cars are still on the track\n",
        "          car.update(map) # handles car position and status\n",
        "          genomes[i][1].fitness += car.get_reward()\n",
        "\n",
        "\n",
        "      # if there are no cars left\n",
        "      if remain_cars == 0:\n",
        "        break\n",
        "\n",
        "      # draw the simulation\n",
        "      screen.blit(map, (0,0)) # draw track\n",
        "      # put each car on the screen\n",
        "      for car in cars:\n",
        "        if car.get_alive():\n",
        "          car.draw(screen)\n",
        "\n",
        "      # surface to display the generation number\n",
        "      text = generation_font.render(\"Generation: \" + str(generation), True, (167, 199, 240))\n",
        "      text_rect = text.get_rect()\n",
        "      text_rect.center = (screen_width/2, 100)\n",
        "      screen.blit(text, text_rect)\n",
        "\n",
        "      # surface to display the remaining car number\n",
        "      text = font.render(\"Remaining cars: \" + str(remain_cars), True, (0, 0, 0))\n",
        "      text_rect = text.get_rect()\n",
        "      text_rect.center = (screen_width/2, 200)\n",
        "      screen.blit(text, text_rect)\n",
        "\n",
        "\n",
        "      pygame.display.flip() # screen frame refreshing\n",
        "      clock.tick(0) # removes frame rate limit\n",
        "\n",
        "\n",
        "\n",
        "  # if the script is being run by itself\n",
        "  if __name__ == \"__main__\":\n",
        "    # NEAT config file\n",
        "    config_path = \"./neat_car_config_feedforward.txt\"\n",
        "    # config_path = cv.imread('/content/drive/MyDrive/NEAT Python Car/neat_car_config_feedforward.txt')\n",
        "\n",
        "    config = neat.config.Config(neat.DefaultGenome, neat.DefaultReproduction, neat.DefaultSpeciesSet, neat.DefaultStagnation, config_path)\n",
        "    print(\"main\")\n",
        "    # NEAT evolution class\n",
        "    p = neat.Population(config)\n",
        "\n",
        "    # statistical reporter\n",
        "    p.add_reporter(neat.StdOutReporter(True))\n",
        "    stats = neat.StatisticsReporter()\n",
        "    p.add_reporter(stats)\n",
        "\n",
        "    # START PROGRAM - for 1000 generations\n",
        "    p.run(run_car, 1000)"
      ]
    }
  ],
  "metadata": {
    "colab": {
      "authorship_tag": "ABX9TyNF8rW7JJXEpp33tueDsMGA",
      "include_colab_link": true,
      "provenance": []
    },
    "kernelspec": {
      "display_name": "Python 3",
      "name": "python3"
    },
    "language_info": {
      "codemirror_mode": {
        "name": "ipython",
        "version": 3
      },
      "file_extension": ".py",
      "mimetype": "text/x-python",
      "name": "python",
      "nbconvert_exporter": "python",
      "pygments_lexer": "ipython3",
      "version": "3.9.6"
    }
  },
  "nbformat": 4,
  "nbformat_minor": 0
}
